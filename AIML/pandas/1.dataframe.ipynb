{
 "cells": [
  {
   "cell_type": "code",
   "execution_count": 32,
   "id": "c2a31194-2a60-4c7a-a470-0642ae3841c7",
   "metadata": {},
   "outputs": [
    {
     "name": "stdout",
     "output_type": "stream",
     "text": [
      "Empty DataFrame\n",
      "Columns: []\n",
      "Index: []\n"
     ]
    }
   ],
   "source": [
    "# Creating a Pandas DataFrame\n",
    "\n",
    "# 1. creating empty data frame\n",
    "\n",
    "import pandas as pd\n",
    "df = pd.DataFrame()\n",
    "print(df)\n"
   ]
  },
  {
   "cell_type": "code",
   "execution_count": 33,
   "id": "005e24df-245b-428c-85d9-068551e49f03",
   "metadata": {},
   "outputs": [
    {
     "name": "stdout",
     "output_type": "stream",
     "text": [
      "        0\n",
      "0   Geeks\n",
      "1     For\n",
      "2   Geeks\n",
      "3      is\n",
      "4  portal\n",
      "5     for\n",
      "6   Geeks\n"
     ]
    }
   ],
   "source": [
    "#2. Creating a DataFrame from a List\n",
    "import pandas as pd\n",
    "\n",
    "lst = ['Geeks', 'For', 'Geeks', 'is', \n",
    "            'portal', 'for', 'Geeks']\n",
    "\n",
    "df = pd.DataFrame(lst)\n",
    "print(df)"
   ]
  },
  {
   "cell_type": "code",
   "execution_count": 34,
   "id": "fc1b2455-3940-4ef7-825d-19d690f7ee14",
   "metadata": {},
   "outputs": [
    {
     "name": "stdout",
     "output_type": "stream",
     "text": [
      "     name  degree  score\n",
      "0  aparna     MBA     90\n",
      "1  pankaj     BCA     40\n",
      "2  sudhir  M.Tech     80\n",
      "3   Geeku     MBA     98\n"
     ]
    }
   ],
   "source": [
    "#3. Creating a DataFrame from a List of Dictionaries\n",
    "import pandas as pd\n",
    "\n",
    "dict = {'name':[\"aparna\", \"pankaj\", \"sudhir\", \"Geeku\"],\n",
    "        'degree': [\"MBA\", \"BCA\", \"M.Tech\", \"MBA\"],\n",
    "        'score':[90, 40, 80, 98]}\n",
    "\n",
    "df = pd.DataFrame(dict)\n",
    "\n",
    "print(df)"
   ]
  },
  {
   "cell_type": "code",
   "execution_count": 35,
   "id": "29e37e97-dd08-4445-b5ba-2e8739afab03",
   "metadata": {},
   "outputs": [
    {
     "name": "stdout",
     "output_type": "stream",
     "text": [
      "RangeIndex(start=0, stop=4, step=1)\n"
     ]
    }
   ],
   "source": [
    "#Pandas Dataframe Index\n",
    "\n",
    "#1. Accessing and Modifying the Index\n",
    "\n",
    "print(df.index)  # Accessing the index"
   ]
  },
  {
   "cell_type": "code",
   "execution_count": 37,
   "id": "03555759-4ded-4f1a-92f4-5bac11f8c38e",
   "metadata": {},
   "outputs": [
    {
     "name": "stdout",
     "output_type": "stream",
     "text": [
      "         Age  Gender  Salary\n",
      "Name                        \n",
      "John      25    Male   50000\n",
      "Alice     30  Female   55000\n",
      "Bob       22    Male   40000\n",
      "Eve       35  Female   70000\n",
      "Charlie   28    Male   48000\n"
     ]
    }
   ],
   "source": [
    "# 2. Setting a Custom Index\n",
    "\n",
    "import pandas as pd\n",
    "\n",
    "data = {'Name': ['John', 'Alice', 'Bob', 'Eve', 'Charlie'], \n",
    "        'Age': [25, 30, 22, 35, 28], \n",
    "        'Gender': ['Male', 'Female', 'Male', 'Female', 'Male'], \n",
    "        'Salary': [50000, 55000, 40000, 70000, 48000]}\n",
    "\n",
    "df = pd.DataFrame(data)\n",
    "\n",
    "df_with_index = df.set_index('Name')\n",
    "print(df_with_index)\n",
    "\n"
   ]
  },
  {
   "cell_type": "code",
   "execution_count": 20,
   "id": "ec259eb9-25b0-4060-a758-507047538625",
   "metadata": {},
   "outputs": [
    {
     "name": "stdout",
     "output_type": "stream",
     "text": [
      "      Name  Age  Gender  Salary\n",
      "0     John   25    Male   50000\n",
      "1    Alice   30  Female   55000\n",
      "2      Bob   22    Male   40000\n",
      "3      Eve   35  Female   70000\n",
      "4  Charlie   28    Male   48000\n"
     ]
    }
   ],
   "source": [
    "#3.Resetting the custom index\n",
    "\n",
    "df_with_index = df.set_index('Name')\n",
    "\n",
    "df_reset = df_with_index.reset_index()\n",
    "print(df_reset)\n"
   ]
  },
  {
   "cell_type": "code",
   "execution_count": 38,
   "id": "3d350ed9-f044-4a95-94ab-c9f3c5a86fa4",
   "metadata": {},
   "outputs": [
    {
     "name": "stdout",
     "output_type": "stream",
     "text": [
      "Age           30\n",
      "Gender    Female\n",
      "Salary     55000\n",
      "Name: Alice, dtype: object\n"
     ]
    }
   ],
   "source": [
    "#4. Indexing with loc\n",
    "\n",
    "df_with_index = df.set_index('Name')\n",
    "\n",
    "row = df_with_index.loc['Alice']\n",
    "print(row)\n"
   ]
  },
  {
   "cell_type": "code",
   "execution_count": 27,
   "id": "5ddc5948-726c-444b-868a-70b666a02c44",
   "metadata": {},
   "outputs": [
    {
     "name": "stdout",
     "output_type": "stream",
     "text": [
      "      Name  Age  Gender  Salary\n",
      "0     John   25    Male   50000\n",
      "1    Alice   30  Female   55000\n",
      "2      Bob   22    Male   40000\n",
      "3      Eve   35  Female   70000\n",
      "4  Charlie   28    Male   48000\n",
      "0    25\n",
      "1    30\n",
      "2    22\n",
      "3    35\n",
      "4    28\n",
      "Name: Age, dtype: int64\n"
     ]
    }
   ],
   "source": [
    "#Pandas Access DataFrame\n",
    "#1. Accessing Columns From DataFrame\n",
    "\n",
    "\n",
    "# Display the entire DataFrame\n",
    "print(df)\n",
    "# Access the 'Age' column\n",
    "age_column = df['Age']\n",
    "print(age_column)\n",
    "\n"
   ]
  },
  {
   "cell_type": "code",
   "execution_count": 39,
   "id": "10d763fe-903d-47c2-b463-a2d16ec48ce4",
   "metadata": {},
   "outputs": [
    {
     "name": "stdout",
     "output_type": "stream",
     "text": [
      "Name        Bob\n",
      "Age          22\n",
      "Gender     Male\n",
      "Salary    40000\n",
      "Name: 2, dtype: object\n"
     ]
    }
   ],
   "source": [
    "#2. Accessing Rows by Index\n",
    "\n",
    "second_row = df.iloc[2]\n",
    "print(second_row)"
   ]
  },
  {
   "cell_type": "code",
   "execution_count": 40,
   "id": "e9a2e180-3724-450d-9041-879cd46a346a",
   "metadata": {},
   "outputs": [
    {
     "name": "stdout",
     "output_type": "stream",
     "text": [
      "    Name  Age\n",
      "0   John   25\n",
      "1  Alice   30\n",
      "2    Bob   22\n"
     ]
    }
   ],
   "source": [
    "#3. Accessing Multiple Rows or Columns\n",
    "# Access the first three rows and the 'Name' and 'Age' columns\n",
    "subset = df.loc[0:2, ['Name', 'Age']]\n",
    "print(subset)\n"
   ]
  },
  {
   "cell_type": "code",
   "execution_count": 30,
   "id": "bb7ef332-4983-4483-b972-99061b127674",
   "metadata": {},
   "outputs": [
    {
     "name": "stdout",
     "output_type": "stream",
     "text": [
      "      Name  Age  Gender  Salary\n",
      "1    Alice   30  Female   55000\n",
      "3      Eve   35  Female   70000\n",
      "4  Charlie   28    Male   48000\n"
     ]
    }
   ],
   "source": [
    "#4. Accessing Rows Based on Conditions\n",
    "\n",
    "# Access rows where 'Age' is greater than 25\n",
    "filtered_data = df[df['Age'] > 25]\n",
    "print(filtered_data)"
   ]
  },
  {
   "cell_type": "code",
   "execution_count": 43,
   "id": "721dd915-333f-4bf6-8a9f-c2ae5016923a",
   "metadata": {},
   "outputs": [
    {
     "name": "stdout",
     "output_type": "stream",
     "text": [
      "40000\n"
     ]
    }
   ],
   "source": [
    "#5. Accessing Specific Cells with at and iat\n",
    "\n",
    "# Access the 'Salary' of the row with label 2\n",
    "salary_at_index_2 = df.at[2, 'Salary']\n",
    "print(salary_at_index_2)"
   ]
  },
  {
   "cell_type": "code",
   "execution_count": 46,
   "id": "4d8f0c7d-7802-4efc-834b-5caae978278a",
   "metadata": {},
   "outputs": [
    {
     "name": "stdout",
     "output_type": "stream",
     "text": [
      "Male\n"
     ]
    }
   ],
   "source": [
    "salary_at_index_2 = df.iat[2, 2]\n",
    "print(salary_at_index_2)\n"
   ]
  },
  {
   "cell_type": "code",
   "execution_count": null,
   "id": "834b8db5-a076-4123-af25-c14a65454e96",
   "metadata": {},
   "outputs": [],
   "source": []
  }
 ],
 "metadata": {
  "kernelspec": {
   "display_name": "Python 3 (ipykernel)",
   "language": "python",
   "name": "python3"
  },
  "language_info": {
   "codemirror_mode": {
    "name": "ipython",
    "version": 3
   },
   "file_extension": ".py",
   "mimetype": "text/x-python",
   "name": "python",
   "nbconvert_exporter": "python",
   "pygments_lexer": "ipython3",
   "version": "3.13.5"
  }
 },
 "nbformat": 4,
 "nbformat_minor": 5
}
