{
 "cells": [
  {
   "cell_type": "code",
   "execution_count": 1,
   "id": "9de081e2-a699-4f2d-81e4-f7e8574cebf1",
   "metadata": {},
   "outputs": [
    {
     "name": "stdout",
     "output_type": "stream",
     "text": [
      "Series([], dtype: object)\n"
     ]
    }
   ],
   "source": [
    "#creating series\n",
    "#1.creating empty series\n",
    "\n",
    "import pandas as pd\n",
    "\n",
    "ser = pd.Series()\n",
    "\n",
    "print(ser)"
   ]
  },
  {
   "cell_type": "code",
   "execution_count": 2,
   "id": "d322ed7a-9d94-4c4d-b705-e5fc028b570a",
   "metadata": {},
   "outputs": [
    {
     "name": "stdout",
     "output_type": "stream",
     "text": [
      "0    g\n",
      "1    e\n",
      "2    e\n",
      "3    k\n",
      "4    s\n",
      "dtype: object\n"
     ]
    }
   ],
   "source": [
    "#2.creating series from numpy array\n",
    "import pandas as pd\n",
    "import numpy as np\n",
    "\n",
    "data = np.array(['g', 'e', 'e', 'k', 's'])\n",
    "\n",
    "ser = pd.Series(data)\n",
    "print(ser)"
   ]
  },
  {
   "cell_type": "code",
   "execution_count": 1,
   "id": "4170b381-46c0-451d-b432-31c0ef491890",
   "metadata": {},
   "outputs": [
    {
     "name": "stdout",
     "output_type": "stream",
     "text": [
      "Geeks    10\n",
      "for      20\n",
      "geeks    30\n",
      "dtype: int64\n"
     ]
    }
   ],
   "source": [
    "#3.Creating a Series from a Dictionary\n",
    "\n",
    "import pandas as pd\n",
    "\n",
    "data_dict = {'Geeks': 10, 'for': 20, 'geeks': 30}\n",
    "\n",
    "ser = pd.Series(data_dict)\n",
    "print(ser)"
   ]
  },
  {
   "cell_type": "code",
   "execution_count": 1,
   "id": "f99dbc48-d000-4530-a9bb-2ebfbe796b04",
   "metadata": {},
   "outputs": [
    {
     "name": "stdout",
     "output_type": "stream",
     "text": [
      "0     1.00\n",
      "1     3.25\n",
      "2     5.50\n",
      "3     7.75\n",
      "4    10.00\n",
      "dtype: float64\n"
     ]
    }
   ],
   "source": [
    "#4.Creating a Series Using NumPy Functions\n",
    "import numpy as np\n",
    "import pandas as pd\n",
    "\n",
    "ser = pd.Series(np.linspace(1, 10, 5))\n",
    "print(ser)"
   ]
  },
  {
   "cell_type": "code",
   "execution_count": 1,
   "id": "079da088-d48e-4d23-9997-9254862f643f",
   "metadata": {},
   "outputs": [
    {
     "name": "stdout",
     "output_type": "stream",
     "text": [
      "0     5\n",
      "1     6\n",
      "2     7\n",
      "3     8\n",
      "4     9\n",
      "5    10\n",
      "6    11\n",
      "7    12\n",
      "8    13\n",
      "9    14\n",
      "dtype: int64\n"
     ]
    }
   ],
   "source": [
    "#5.Creating a Series Using range()\n",
    "import pandas as pd\n",
    "\n",
    "ser = pd.Series(range(5, 15))\n",
    "print(ser)"
   ]
  },
  {
   "cell_type": "code",
   "execution_count": 2,
   "id": "e4cf1fe8-a0ef-4bb9-acd4-22684cc5e18f",
   "metadata": {},
   "outputs": [
    {
     "name": "stdout",
     "output_type": "stream",
     "text": [
      "g\n"
     ]
    }
   ],
   "source": [
    "#Module 2\n",
    "#Accessing the First Element of Series\n",
    "#Series named 'ser' is created from a NumPy array 'data' containing the elements\n",
    "#'g', 'e', 'e', 'k', 's', 'f', 'o', 'r', 'g', 'e', 'e', 'k', 's'. The first element \n",
    "#of the series is accessed and printed using `print(ser[0])`\n",
    "\n",
    "# import pandas and numpy\n",
    "import pandas as pd\n",
    "import numpy as np\n",
    "\n",
    "# creating simple array\n",
    "data = np.array(['g', 'e', 'e', 'k', 's', 'f',\n",
    "                 'o', 'r', 'g', 'e', 'e', 'k', 's'])\n",
    "ser = pd.Series(data)\n",
    "# retrieve the first element\n",
    "print(ser[0])\n",
    "\n"
   ]
  },
  {
   "cell_type": "code",
   "execution_count": 3,
   "id": "aa5c0dac-c5d2-4e98-9895-7eba2ddef362",
   "metadata": {},
   "outputs": [
    {
     "name": "stdout",
     "output_type": "stream",
     "text": [
      "0    g\n",
      "1    e\n",
      "2    e\n",
      "3    k\n",
      "4    s\n",
      "dtype: object\n"
     ]
    }
   ],
   "source": [
    "#2Accessing First 5 Elements of Series\n",
    "# import pandas and numpy\n",
    "import pandas as pd\n",
    "import numpy as np\n",
    "\n",
    "# creating simple array\n",
    "data = np.array(['g', 'e', 'e', 'k', 's', 'f',\n",
    "                 'o', 'r', 'g', 'e', 'e', 'k', 's'])\n",
    "ser = pd.Series(data)\n",
    "# retrieve the first element\n",
    "print(ser[:5])"
   ]
  },
  {
   "cell_type": "code",
   "execution_count": 4,
   "id": "5f65674d-5872-42c0-b908-990405889bf6",
   "metadata": {},
   "outputs": [
    {
     "name": "stdout",
     "output_type": "stream",
     "text": [
      "3     k\n",
      "4     s\n",
      "5     f\n",
      "6     o\n",
      "7     r\n",
      "8     g\n",
      "9     e\n",
      "10    e\n",
      "11    k\n",
      "12    s\n",
      "dtype: object\n"
     ]
    }
   ],
   "source": [
    "#3.Accessing Last 10 Elements of Series\n",
    "# import pandas and numpy\n",
    "import pandas as pd\n",
    "import numpy as np\n",
    "\n",
    "# creating simple array\n",
    "data = np.array(['g', 'e', 'e', 'k', 's', 'f',\n",
    "                 'o', 'r', 'g', 'e', 'e', 'k', 's'])\n",
    "ser = pd.Series(data)\n",
    "\n",
    "# retrieve the first element\n",
    "print(ser[-10:])"
   ]
  },
  {
   "cell_type": "code",
   "execution_count": 1,
   "id": "a7f06ac8-065d-447b-b559-3772c90f49b7",
   "metadata": {},
   "outputs": [
    {
     "data": {
      "text/plain": [
       "0    68\n",
       "1    58\n",
       "2    44\n",
       "3    37\n",
       "4    50\n",
       "Name: age, dtype: int64"
      ]
     },
     "execution_count": 1,
     "metadata": {},
     "output_type": "execute_result"
    }
   ],
   "source": [
    "#3.Accessing First 5 Elements of Series in .csv File\n",
    "import pandas as pd\n",
    "\n",
    "# making data frame\n",
    "df = pd.read_csv(\"heart.csv\")\n",
    "\n",
    "ser = pd.Series(df['age'])\n",
    "ser.head(5)"
   ]
  },
  {
   "cell_type": "code",
   "execution_count": 2,
   "id": "6e4429d7-4c27-4ffe-b4c5-ee066216c883",
   "metadata": {},
   "outputs": [
    {
     "name": "stdout",
     "output_type": "stream",
     "text": [
      "o\n"
     ]
    }
   ],
   "source": [
    "#4.Accessing a Single Element Using index Label\n",
    "import pandas as pd\n",
    "import numpy as np\n",
    "\n",
    "# creating simple array\n",
    "data = np.array(['g', 'e', 'e', 'k', 's', 'f',\n",
    "                 'o', 'r', 'g', 'e', 'e', 'k', 's'])\n",
    "ser = pd.Series(data, index=[10, 11, 12, 13, 14,\n",
    "                             15, 16, 17, 18, 19, 20, 21, 22])\n",
    "\n",
    "# accessing a element using index element\n",
    "print(ser[16])\n"
   ]
  },
  {
   "cell_type": "code",
   "execution_count": 3,
   "id": "6d780cdb-31ca-4025-a171-0ae7bca7d745",
   "metadata": {},
   "outputs": [
    {
     "name": "stdout",
     "output_type": "stream",
     "text": [
      "10    g\n",
      "11    e\n",
      "12    e\n",
      "13    k\n",
      "14    s\n",
      "dtype: object\n"
     ]
    }
   ],
   "source": [
    "#5 Accessing a Multiple Element Using index Label\n",
    "# import pandas and numpy\n",
    "import pandas as pd\n",
    "import numpy as np\n",
    "\n",
    "# creating simple array\n",
    "data = np.array(['g', 'e', 'e', 'k', 's', 'f',\n",
    "                 'o', 'r', 'g', 'e', 'e', 'k', 's'])\n",
    "ser = pd.Series(data, index=[10, 11, 12, 13, 14,\n",
    "                             15, 16, 17, 18, 19, 20, 21, 22])\n",
    "\n",
    "# accessing a multiple element using\n",
    "# index element\n",
    "print(ser[[10, 11, 12, 13, 14]])"
   ]
  },
  {
   "cell_type": "code",
   "execution_count": 4,
   "id": "85b7f12c-3a03-44f2-afa2-ba2c0173103d",
   "metadata": {},
   "outputs": [
    {
     "name": "stdout",
     "output_type": "stream",
     "text": [
      "a    3\n",
      "d    6\n",
      "dtype: int64\n"
     ]
    }
   ],
   "source": [
    "#6.Access Multiple Elements by Providing Label of Index\n",
    "# importing pandas and numpy\n",
    "import pandas as pd\n",
    "import numpy as np\n",
    "\n",
    "ser = pd.Series(np.arange(3, 9), index=['a', 'b', 'c', 'd', 'e', 'f'])\n",
    "\n",
    "print(ser[['a', 'd']])"
   ]
  },
  {
   "cell_type": "code",
   "execution_count": 5,
   "id": "16292a77-777e-4faf-a755-c751238cb10e",
   "metadata": {},
   "outputs": [
    {
     "name": "stdout",
     "output_type": "stream",
     "text": [
      "a    11\n",
      "b    22\n",
      "c    33\n",
      "dtype: int64\n"
     ]
    }
   ],
   "source": [
    "#module3\n",
    "#Binary operations on pandas\n",
    "#1. Arithmetic Operations on Series\n",
    "\n",
    "import pandas as pd\n",
    "s1 = pd.Series([10, 20, 30], index=['a', 'b', 'c'])\n",
    "s2 = pd.Series([1, 2, 3], index=['a', 'b', 'c'])\n",
    "\n",
    "# Adding the two Series\n",
    "result = s1 + s2\n",
    "print(result)\n"
   ]
  },
  {
   "cell_type": "code",
   "execution_count": 6,
   "id": "17e0c531-c1ca-41d1-a98e-db5fef0e51f8",
   "metadata": {},
   "outputs": [
    {
     "name": "stdout",
     "output_type": "stream",
     "text": [
      "0     True\n",
      "1    False\n",
      "2     True\n",
      "dtype: bool\n"
     ]
    }
   ],
   "source": [
    "#2. Comparison Operations on Series\n",
    "import pandas as pd\n",
    "s1 = pd.Series([10, 20, 30])\n",
    "s2 = pd.Series([10, 25, 30])\n",
    "\n",
    "# Comparing the two Series\n",
    "result = s1 == s2\n",
    "print(result)"
   ]
  },
  {
   "cell_type": "code",
   "execution_count": 7,
   "id": "66180f3d-caf4-46ef-b5ae-a913c438106f",
   "metadata": {},
   "outputs": [
    {
     "name": "stdout",
     "output_type": "stream",
     "text": [
      "    A   B\n",
      "0   9  36\n",
      "1  18  45\n",
      "2  27  54\n"
     ]
    }
   ],
   "source": [
    "#Binary Operations on Pandas DataFrame\n",
    "#1. Arithmetic Operations on DataFrames\n",
    "import pandas as pd\n",
    "df1 = pd.DataFrame({'A': [10, 20, 30], 'B': [40, 50, 60]})\n",
    "df2 = pd.DataFrame({'A': [1, 2, 3], 'B': [4, 5, 6]})\n",
    "\n",
    "# Subtracting the DataFrames\n",
    "result = df1 - df2\n",
    "print(result)\n"
   ]
  },
  {
   "cell_type": "code",
   "execution_count": 8,
   "id": "afa8a2a2-07e8-47a3-b9eb-3aeca2af9de2",
   "metadata": {},
   "outputs": [
    {
     "name": "stdout",
     "output_type": "stream",
     "text": [
      "       A      B\n",
      "0   True   True\n",
      "1   True  False\n",
      "2  False   True\n"
     ]
    }
   ],
   "source": [
    "#2.Comparison operations in pandas dataframe\n",
    "\n",
    "import pandas as pd\n",
    "df1 = pd.DataFrame({'A': [10, 20, 30], 'B': [40, 50, 60]})\n",
    "df2 = pd.DataFrame({'A': [5, 15, 35], 'B': [30, 60, 55]})\n",
    "\n",
    "# Checking if elements of df1 are greater than df2\n",
    "result = df1 > df2\n",
    "print(result)"
   ]
  },
  {
   "cell_type": "code",
   "execution_count": 9,
   "id": "aea92788-2852-4658-af41-7cb018348024",
   "metadata": {},
   "outputs": [
    {
     "name": "stdout",
     "output_type": "stream",
     "text": [
      "0    False\n",
      "1    False\n",
      "2     True\n",
      "dtype: bool\n"
     ]
    }
   ],
   "source": [
    "#3.Logical Operations on DataFrame and Series\n",
    "\n",
    "import pandas as pd\n",
    "s1 = pd.Series([True, False, True])\n",
    "s2 = pd.Series([False, False, True])\n",
    "\n",
    "# Applying logical AND\n",
    "result = s1 & s2\n",
    "print(result)"
   ]
  },
  {
   "cell_type": "code",
   "execution_count": 10,
   "id": "ff48c5fd-2844-45ac-bba2-07f80e54f07c",
   "metadata": {},
   "outputs": [
    {
     "name": "stdout",
     "output_type": "stream",
     "text": [
      "     A     B\n",
      "0  2.0   NaN\n",
      "1  NaN   NaN\n",
      "2  NaN  12.0\n"
     ]
    }
   ],
   "source": [
    "#Handling Missing Data in Binary Operations\n",
    "\n",
    "import pandas as pd \n",
    "df1 = pd.DataFrame({'A': [1, 2, None], 'B': [4, None, 6]})\n",
    "df2 = pd.DataFrame({'A': [1, None, 3], 'B': [None, 5, 6]})\n",
    "\n",
    "# Adding the DataFrames\n",
    "result = df1 + df2\n",
    "print(result)"
   ]
  },
  {
   "cell_type": "code",
   "execution_count": 11,
   "id": "c16acde1-826b-4dbd-bfa5-b372bf9b2f82",
   "metadata": {},
   "outputs": [
    {
     "name": "stdout",
     "output_type": "stream",
     "text": [
      "Original Index: Index(['a', 'b', 'c', 'd'], dtype='object')\n",
      "Modified Series:\n",
      " w    10\n",
      "x    20\n",
      "y    30\n",
      "z    40\n",
      "dtype: int64\n"
     ]
    }
   ],
   "source": [
    "#module 4\n",
    "\n",
    "#Pandas Series Index Attribute\n",
    "import pandas as pd\n",
    "\n",
    "data = pd.Series([10, 20, 30, 40], index=['a', 'b', 'c', 'd'])\n",
    "\n",
    "# Accessing the index\n",
    "print(\"Original Index:\", data.index)\n",
    "\n",
    "# Modifying the index\n",
    "data.index = ['w', 'x', 'y', 'z']\n",
    "print(\"Modified Series:\\n\", data)"
   ]
  },
  {
   "cell_type": "code",
   "execution_count": 12,
   "id": "65c4076f-b1a2-49d2-a927-b534889c3b63",
   "metadata": {},
   "outputs": [
    {
     "name": "stdout",
     "output_type": "stream",
     "text": [
      "City 1    New York\n",
      "City 1     Chicago\n",
      "City 3     Toronto\n",
      "City 3      Lisbon\n",
      "dtype: object\n"
     ]
    }
   ],
   "source": [
    "#Example 1. Assigning Duplicate Index Labels\n",
    "\n",
    "import pandas as pd\n",
    "\n",
    "series = pd.Series(['New York', 'Chicago', 'Toronto', 'Lisbon'])\n",
    "\n",
    "# Creating the row axis labels\n",
    "series.index = ['City 1', 'City 1', 'City 3', 'City 3'] \n",
    "print(series)"
   ]
  },
  {
   "cell_type": "code",
   "execution_count": 15,
   "id": "b91b0c1e-e5b8-40e2-909d-c82e14b185ee",
   "metadata": {},
   "outputs": [
    {
     "name": "stdout",
     "output_type": "stream",
     "text": [
      "0    1/1/2018\n",
      "1    2/1/2018\n",
      "2    3/1/2018\n",
      "3    4/1/2018\n",
      "dtype: object\n"
     ]
    }
   ],
   "source": [
    "#Example 2. Resetting Index to Default\n",
    "\n",
    "import pandas as pd\n",
    "\n",
    "Date = ['1/1/2018', '2/1/2018', '3/1/2018', '4/1/2018']\n",
    "idx_name = ['Day 1', 'Day 2', 'Day 3', 'Day 4']\n",
    "\n",
    "sr = pd.Series(data = Date,        # Series Data\n",
    "              index = idx_name   # Index\n",
    "              )\n",
    "\n",
    "# Resetting index to default\n",
    "sr.reset_index(drop=True, inplace=True)\n",
    "print(sr)"
   ]
  },
  {
   "cell_type": "code",
   "execution_count": 16,
   "id": "68144ca6-dc2e-4a80-af18-7559e3884f4d",
   "metadata": {},
   "outputs": [
    {
     "name": "stdout",
     "output_type": "stream",
     "text": [
      "0    a\n",
      "1    b\n",
      "2    c\n",
      "3    d\n",
      "4    e\n",
      "dtype: object\n"
     ]
    }
   ],
   "source": [
    "#Module 4\n",
    "#Create a Pandas Series from Array\n",
    "import pandas as pd\n",
    "import numpy as np\n",
    "\n",
    "data = np.array(['a', 'b', 'c', 'd', 'e'])\n",
    "\n",
    "s = pd.Series(data)\n",
    "print(s)\n"
   ]
  },
  {
   "cell_type": "code",
   "execution_count": 17,
   "id": "11896745-36ef-425f-8442-caa5edeb4dec",
   "metadata": {},
   "outputs": [
    {
     "name": "stdout",
     "output_type": "stream",
     "text": [
      "1000    a\n",
      "1001    b\n",
      "1002    c\n",
      "1003    d\n",
      "1004    e\n",
      "dtype: object\n"
     ]
    }
   ],
   "source": [
    "#Creating a Pandas Series With a Custom Index\n",
    "import pandas as pd\n",
    "import numpy as np\n",
    "\n",
    "data = np.array(['a', 'b', 'c', 'd', 'e'])\n",
    "\n",
    "s = pd.Series(data, index=[1000, 1001, 1002, 1003, 1004])\n",
    "\n",
    "print(s)"
   ]
  },
  {
   "cell_type": "code",
   "execution_count": null,
   "id": "78bbfc49-fb2e-4c0a-b926-939c75ff7887",
   "metadata": {},
   "outputs": [],
   "source": []
  }
 ],
 "metadata": {
  "kernelspec": {
   "display_name": "Python 3 (ipykernel)",
   "language": "python",
   "name": "python3"
  },
  "language_info": {
   "codemirror_mode": {
    "name": "ipython",
    "version": 3
   },
   "file_extension": ".py",
   "mimetype": "text/x-python",
   "name": "python",
   "nbconvert_exporter": "python",
   "pygments_lexer": "ipython3",
   "version": "3.13.5"
  }
 },
 "nbformat": 4,
 "nbformat_minor": 5
}
